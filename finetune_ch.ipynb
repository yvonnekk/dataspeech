{
 "cells": [
  {
   "cell_type": "code",
   "execution_count": 17,
   "metadata": {},
   "outputs": [],
   "source": [
    "from datasets import load_dataset\n",
    "dataset = load_dataset(\"yvonne66/bznsyp\")"
   ]
  },
  {
   "cell_type": "code",
   "execution_count": null,
   "metadata": {},
   "outputs": [],
   "source": [
    "dataset['train'] = dataset['train'].select(range(3900))\n",
    "dataset['train']"
   ]
  },
  {
   "cell_type": "code",
   "execution_count": null,
   "metadata": {},
   "outputs": [],
   "source": [
    "from IPython.display import Audio\n",
    "print(dataset[\"train\"][0][\"text\"]) # transfer transcription to text \n",
    "Audio(dataset[\"train\"][0][\"audio\"][\"array\"], rate=dataset[\"train\"][0][\"audio\"][\"sampling_rate\"])\n"
   ]
  },
  {
   "cell_type": "code",
   "execution_count": null,
   "metadata": {},
   "outputs": [],
   "source": [
    "dataset['train'][0]"
   ]
  },
  {
   "cell_type": "code",
   "execution_count": 5,
   "metadata": {},
   "outputs": [],
   "source": [
    "from datasets import Audio\n",
    "from dataspeech import rate_apply, pitch_apply, snr_apply, squim_apply\n",
    "import torch\n"
   ]
  },
  {
   "cell_type": "code",
   "execution_count": null,
   "metadata": {},
   "outputs": [],
   "source": [
    "batch_size = 2\n",
    "num_workers_per_gpu_for_squim = 1\n",
    "cpu_num_workers = 2\n",
    "audio_column_name = \"audio\"\n",
    "\n",
    "# compute rate of speech for each audio, SI-SDR, PESQ, STOI\n",
    "squim_dataset = dataset.map(\n",
    "    squim_apply,\n",
    "    batched=True,\n",
    "    batch_size=batch_size,\n",
    "    with_rank=True if torch.cuda.device_count()>0 else False,\n",
    "    num_proc=torch.cuda.device_count()*num_workers_per_gpu_for_squim if torch.cuda.device_count()>0 else cpu_num_workers,\n",
    "    remove_columns=[audio_column_name], # tricks to avoid rewritting audio\n",
    "    fn_kwargs={\"audio_column_name\": audio_column_name,},\n",
    ")\n",
    "squim_dataset['train'][0]"
   ]
  },
  {
   "cell_type": "code",
   "execution_count": null,
   "metadata": {},
   "outputs": [],
   "source": [
    "num_workers_per_gpu_for_pitch = 1\n",
    "penn_batch_size = 4096\n",
    "\n",
    "# compute pitch for each audio, pitch mean and pitch std\n",
    "pitch_dataset = dataset.cast_column(audio_column_name, Audio(sampling_rate=16_000)).map(\n",
    "    pitch_apply,\n",
    "    batched=True,\n",
    "    batch_size=batch_size,\n",
    "    with_rank=True if torch.cuda.device_count()>0 else False,\n",
    "    num_proc=torch.cuda.device_count()*num_workers_per_gpu_for_pitch if torch.cuda.device_count()>0 else cpu_num_workers,\n",
    "    remove_columns=[audio_column_name], # tricks to avoid rewritting audio\n",
    "    fn_kwargs={\"audio_column_name\": audio_column_name, \"penn_batch_size\": penn_batch_size},\n",
    ")\n",
    "pitch_dataset['train'][0]\n"
   ]
  },
  {
   "cell_type": "code",
   "execution_count": null,
   "metadata": {},
   "outputs": [],
   "source": [
    "num_workers_per_gpu_for_snr = 1\n",
    "\n",
    "# compute snr for each audio, snr, c50, speech_duration\n",
    "snr_dataset = dataset.map(\n",
    "    snr_apply,\n",
    "    batched=True,\n",
    "    batch_size=batch_size,\n",
    "    with_rank=True if torch.cuda.device_count()>0 else False,\n",
    "    num_proc=torch.cuda.device_count()*num_workers_per_gpu_for_snr if torch.cuda.device_count()>0 else cpu_num_workers,\n",
    "    remove_columns=[audio_column_name], # tricks to avoid rewritting audio\n",
    "    fn_kwargs={\"audio_column_name\": audio_column_name},\n",
    ")\n",
    "snr_dataset['train'][0]\n"
   ]
  },
  {
   "cell_type": "code",
   "execution_count": 9,
   "metadata": {},
   "outputs": [],
   "source": [
    "# # chinese espeakbackend is 'cmn' \n",
    "# # reference: https://textdata.cn/blog/phonemizer/\n",
    "\n",
    "# from phonemizer.backend import EspeakBackend\n",
    "# from phonemizer.punctuation import Punctuation\n",
    "# from phonemizer.separator import Separator\n",
    "# import re\n",
    "\n",
    "# text = '想到他们可能在那个时候谈论他，他觉得好笑'\n",
    "# words = re.findall('[\\u4e00-\\u9fa5]', text)\n",
    "\n",
    "\n",
    "# backend = EspeakBackend('cmn', with_stress=True)\n",
    "\n",
    "# separator = Separator(phone=' ', word=None)\n",
    "\n",
    "# # 构建每个汉字一个对应的音素表达，输出结果为字典样式\n",
    "# lexicon = {word: backend.phonemize([word], separator=separator, strip=True)[0]\n",
    "#            for word in words}\n",
    "\n",
    "# lexicon\n"
   ]
  },
  {
   "cell_type": "code",
   "execution_count": null,
   "metadata": {},
   "outputs": [],
   "source": [
    "from phonemizer import phonemize\n",
    "from phonemizer.backend import EspeakBackend\n",
    "\n",
    "backend = EspeakBackend('cmn')\n",
    "\n",
    "# reference: https://github.com/huggingface/dataspeech/issues/3\n",
    "# but it would crash when reaching 3992 rows (reference: https://github.com/egaznep/VoicePAT/issues/1)\n",
    "def rate_apply(batch, rank=None, audio_column_name=\"audio\", text_column_name=\"text\"):\n",
    "    if isinstance(batch[audio_column_name], list):  \n",
    "        speaking_rates = []\n",
    "        phonemes_list = []\n",
    "        for text, audio in zip(batch[text_column_name], batch[audio_column_name]):\n",
    "            phonemes = phonemize(text, language='cmn', backend='espeak', with_stress=True)\n",
    "            \n",
    "            sample_rate = audio[\"sampling_rate\"]\n",
    "            audio_length = len(audio[\"array\"].squeeze()) / sample_rate\n",
    "            \n",
    "            speaking_rate = len(phonemes) / audio_length\n",
    "\n",
    "            speaking_rates.append(speaking_rate)\n",
    "            phonemes_list.append(phonemes)\n",
    "        \n",
    "        batch[\"speaking_rate\"] = speaking_rates\n",
    "        batch[\"phonemes\"] = phonemes_list\n",
    "    else:\n",
    "        phonemes = phonemize(batch[text_column_name], language='cmn', backend='espeak', with_stress=True)\n",
    "            \n",
    "        sample_rate = batch[audio_column_name][\"sampling_rate\"]\n",
    "        audio_length = len(batch[audio_column_name][\"array\"].squeeze()) / sample_rate\n",
    "        \n",
    "        speaking_rate = len(phonemes) / audio_length\n",
    "        \n",
    "        batch[\"speaking_rate\"] = speaking_rate\n",
    "        batch[\"phonemes\"] = phonemes\n",
    "\n",
    "    return batch\n",
    "\n",
    "\n",
    "cpu_writer_batch_size = 1000\n",
    "text_column_name = 'text'\n",
    "\n",
    "# compute speaking_rate, phonemes\n",
    "# rate_dataset = snr_dataset.map(\n",
    "#     rate_apply,\n",
    "#     with_rank=False,\n",
    "#     num_proc=cpu_num_workers,\n",
    "#     writer_batch_size= cpu_writer_batch_size,\n",
    "#     fn_kwargs={\"audio_column_name\": audio_column_name, \"text_column_name\": text_column_name},\n",
    "# )\n",
    "rate_dataset = dataset.map(\n",
    "    rate_apply,\n",
    "    with_rank=False,\n",
    "    num_proc=cpu_num_workers,\n",
    "    writer_batch_size= cpu_writer_batch_size,\n",
    "    remove_columns=[audio_column_name], # tricks to avoid rewritting audio\n",
    "    fn_kwargs={\"audio_column_name\": audio_column_name, \"text_column_name\": text_column_name},\n",
    ")\n",
    "rate_dataset['train'][0]\n"
   ]
  },
  {
   "cell_type": "code",
   "execution_count": null,
   "metadata": {},
   "outputs": [],
   "source": [
    "# combine together\n",
    "for split in dataset.keys():\n",
    "    dataset[split] = pitch_dataset[split].add_column(\"snr\", snr_dataset[split][\"snr\"]).add_column(\"c50\", snr_dataset[split][\"c50\"])\n",
    "    if \"speech_duration\" in snr_dataset[split]:\n",
    "        dataset[split] = dataset[split].add_column(\"speech_duration\", snr_dataset[split][\"speech_duration\"])\n",
    "    dataset[split] = dataset[split].add_column(\"speaking_rate\", rate_dataset[split][\"speaking_rate\"]).add_column(\"phonemes\", rate_dataset[split][\"phonemes\"])\n",
    "    dataset[split] = dataset[split].add_column(\"stoi\", squim_dataset[split][\"stoi\"]).add_column(\"si-sdr\", squim_dataset[split][\"sdr\"]).add_column(\"pesq\", squim_dataset[split][\"pesq\"])\n",
    "dataset['train'][0]"
   ]
  },
  {
   "cell_type": "code",
   "execution_count": null,
   "metadata": {},
   "outputs": [],
   "source": [
    "# dataset.push_to_hub(\"yvonne66/bznsyp_label_small\")\n"
   ]
  },
  {
   "cell_type": "code",
   "execution_count": null,
   "metadata": {},
   "outputs": [],
   "source": [
    "\n",
    "from datasets import load_dataset\n",
    "dataset = load_dataset(\"yvonne66/bznsyp_label_small\")\n",
    "print(\"1st sample:\", dataset[\"train\"][0])\n",
    "# print(\"2nd sample:\", dataset[\"train\"][1][\"text_description\"])\n"
   ]
  },
  {
   "cell_type": "code",
   "execution_count": null,
   "metadata": {},
   "outputs": [],
   "source": [
    "dataset[\"train\"][0]"
   ]
  },
  {
   "cell_type": "code",
   "execution_count": null,
   "metadata": {},
   "outputs": [],
   "source": []
  }
 ],
 "metadata": {
  "kernelspec": {
   "display_name": "base",
   "language": "python",
   "name": "python3"
  },
  "language_info": {
   "codemirror_mode": {
    "name": "ipython",
    "version": 3
   },
   "file_extension": ".py",
   "mimetype": "text/x-python",
   "name": "python",
   "nbconvert_exporter": "python",
   "pygments_lexer": "ipython3",
   "version": "3.10.14"
  }
 },
 "nbformat": 4,
 "nbformat_minor": 2
}
